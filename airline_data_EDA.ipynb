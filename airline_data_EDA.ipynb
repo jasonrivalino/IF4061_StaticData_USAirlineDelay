{
  "cells": [
    {
      "cell_type": "markdown",
      "metadata": {
        "id": "sfA-BfgyMJv3"
      },
      "source": [
        "# Import Library dan Upload Dataset"
      ]
    },
    {
      "cell_type": "code",
      "execution_count": 1,
      "metadata": {
        "id": "VtTICkDjD7Nd"
      },
      "outputs": [],
      "source": [
        "#Import libraries\n",
        "import pandas as pd\n",
        "import numpy as np\n",
        "import matplotlib.pyplot as plt\n",
        "from scipy import stats\n",
        "import datetime\n",
        "import seaborn as sns"
      ]
    },
    {
      "cell_type": "code",
      "execution_count": 2,
      "metadata": {
        "id": "PAO55MmFku1J"
      },
      "outputs": [],
      "source": [
        "# code ini untuk menghilangkan warning message saat kita menjalankan code-code\n",
        "import warnings\n",
        "warnings.filterwarnings('ignore')"
      ]
    },
    {
      "cell_type": "code",
      "execution_count": 3,
      "metadata": {
        "id": "pOX-gePHMMEV"
      },
      "outputs": [],
      "source": [
        "airline_data = pd.read_csv('Airline_Delay_Cause.csv')"
      ]
    },
    {
      "cell_type": "markdown",
      "metadata": {
        "id": "-evts00ITPIr"
      },
      "source": [
        " # Transforming for Quality"
      ]
    },
    {
      "cell_type": "markdown",
      "metadata": {
        "id": "NVbyrf47UhIz"
      },
      "source": [
        "## Parsing Airport Variables"
      ]
    },
    {
      "cell_type": "code",
      "execution_count": 4,
      "metadata": {
        "colab": {
          "base_uri": "https://localhost:8080/",
          "height": 206
        },
        "id": "Mmt6ij5qH8Ko",
        "outputId": "19e767a7-d327-432a-9903-12cb8f5cb5bd"
      },
      "outputs": [
        {
          "data": {
            "text/html": [
              "<div>\n",
              "<style scoped>\n",
              "    .dataframe tbody tr th:only-of-type {\n",
              "        vertical-align: middle;\n",
              "    }\n",
              "\n",
              "    .dataframe tbody tr th {\n",
              "        vertical-align: top;\n",
              "    }\n",
              "\n",
              "    .dataframe thead th {\n",
              "        text-align: right;\n",
              "    }\n",
              "</style>\n",
              "<table border=\"1\" class=\"dataframe\">\n",
              "  <thead>\n",
              "    <tr style=\"text-align: right;\">\n",
              "      <th></th>\n",
              "      <th>airport_city</th>\n",
              "      <th>airport_state</th>\n",
              "      <th>airport_name</th>\n",
              "    </tr>\n",
              "  </thead>\n",
              "  <tbody>\n",
              "    <tr>\n",
              "      <th>0</th>\n",
              "      <td>Allentown/Bethlehem/Easton</td>\n",
              "      <td>PA</td>\n",
              "      <td>Lehigh Valley International</td>\n",
              "    </tr>\n",
              "    <tr>\n",
              "      <th>1</th>\n",
              "      <td>Albany</td>\n",
              "      <td>GA</td>\n",
              "      <td>Southwest Georgia Regional</td>\n",
              "    </tr>\n",
              "    <tr>\n",
              "      <th>2</th>\n",
              "      <td>Alexandria</td>\n",
              "      <td>LA</td>\n",
              "      <td>Alexandria International</td>\n",
              "    </tr>\n",
              "    <tr>\n",
              "      <th>3</th>\n",
              "      <td>Augusta</td>\n",
              "      <td>GA</td>\n",
              "      <td>Augusta Regional at Bush Field</td>\n",
              "    </tr>\n",
              "    <tr>\n",
              "      <th>4</th>\n",
              "      <td>Albany</td>\n",
              "      <td>NY</td>\n",
              "      <td>Albany International</td>\n",
              "    </tr>\n",
              "  </tbody>\n",
              "</table>\n",
              "</div>"
            ],
            "text/plain": [
              "                 airport_city airport_state                    airport_name\n",
              "0  Allentown/Bethlehem/Easton            PA     Lehigh Valley International\n",
              "1                      Albany            GA      Southwest Georgia Regional\n",
              "2                  Alexandria            LA        Alexandria International\n",
              "3                     Augusta            GA  Augusta Regional at Bush Field\n",
              "4                      Albany            NY            Albany International"
            ]
          },
          "execution_count": 4,
          "metadata": {},
          "output_type": "execute_result"
        }
      ],
      "source": [
        "airline_data[['airport_city', 'airport_state', 'airport_name']] = airline_data['airport_name'].str.extract(r'(.+),\\s([A-Z]{2}):\\s(.+)')\n",
        "\n",
        "# Tampilkan hasil\n",
        "airline_data[['airport_city', 'airport_state', 'airport_name']].head()"
      ]
    },
    {
      "cell_type": "code",
      "execution_count": 5,
      "metadata": {
        "colab": {
          "base_uri": "https://localhost:8080/",
          "height": 489
        },
        "id": "wmeU0Bz0UWnn",
        "outputId": "a0d2c926-485b-4cc9-f6d0-45f0aef64440"
      },
      "outputs": [
        {
          "data": {
            "text/plain": [
              "airport_city         \n",
              "Washington               2745\n",
              "New York                 2326\n",
              "Portland                 2303\n",
              "Chicago                  1919\n",
              "Houston                  1912\n",
              "                         ... \n",
              "Fort Collins/Loveland       1\n",
              "Macon                       1\n",
              "Wendover                    1\n",
              "Tokeen                      1\n",
              "Youngstown/Warren           1\n",
              "Name: count, Length: 376, dtype: int64"
            ]
          },
          "execution_count": 5,
          "metadata": {},
          "output_type": "execute_result"
        }
      ],
      "source": [
        "airline_data[['airport_city']].value_counts()"
      ]
    },
    {
      "cell_type": "markdown",
      "metadata": {
        "id": "_fR7X6eqVmIr"
      },
      "source": [
        "## Percentage Columns"
      ]
    },
    {
      "cell_type": "code",
      "execution_count": 6,
      "metadata": {
        "id": "F4mnfVbbVDZk"
      },
      "outputs": [],
      "source": [
        "airline_data[\"arr_del15_percentage\"] = (airline_data[\"arr_del15\"] / airline_data[\"arr_flights\"]) * 100\n",
        "airline_data[\"arr_diverted_percentage\"] = (airline_data[\"arr_diverted\"] / airline_data[\"arr_flights\"]) * 100\n",
        "airline_data[\"arr_cancelled_percentage\"] = (airline_data[\"arr_cancelled\"] / airline_data[\"arr_flights\"]) * 100"
      ]
    },
    {
      "cell_type": "code",
      "execution_count": 7,
      "metadata": {
        "id": "VDSovhBfVDJ2"
      },
      "outputs": [],
      "source": [
        "airline_data[\"carrier_ct_percentage\"] = (airline_data[\"carrier_ct\"] / airline_data[\"arr_del15\"]) * 100\n",
        "airline_data[\"weather_ct_percentage\"] = (airline_data[\"weather_ct\"] / airline_data[\"arr_del15\"]) * 100\n",
        "airline_data[\"nas_ct_percentage\"] = (airline_data[\"nas_ct\"] / airline_data[\"arr_del15\"]) * 100\n",
        "airline_data[\"security_ct_percentage\"] = (airline_data[\"security_ct\"] / airline_data[\"arr_del15\"]) * 100\n",
        "airline_data[\"late_aircraft_ct_percentage\"] = (airline_data[\"late_aircraft_ct\"] / airline_data[\"arr_del15\"]) * 100"
      ]
    },
    {
      "cell_type": "code",
      "execution_count": 8,
      "metadata": {
        "id": "NY_G5WbiVDDX"
      },
      "outputs": [],
      "source": [
        "airline_data[\"carrier_delay_percentage\"] = (airline_data[\"carrier_delay\"] / airline_data[\"arr_delay\"]) * 100\n",
        "airline_data[\"weather_delay_percentage\"] = (airline_data[\"weather_delay\"] / airline_data[\"arr_delay\"]) * 100\n",
        "airline_data[\"nas_delay_percentage\"] = (airline_data[\"nas_delay\"] / airline_data[\"arr_delay\"]) * 100\n",
        "airline_data[\"security_delay_percentage\"] = (airline_data[\"security_delay\"] / airline_data[\"arr_delay\"]) * 100\n",
        "airline_data[\"late_aircraft_delay_percentage\"] = (airline_data[\"late_aircraft_delay\"] / airline_data[\"arr_delay\"]) * 100"
      ]
    },
    {
      "cell_type": "markdown",
      "metadata": {
        "id": "dQOntljmE2Nj"
      },
      "source": [
        "## Reorder Columns"
      ]
    },
    {
      "cell_type": "code",
      "execution_count": 9,
      "metadata": {
        "id": "ca2iwxrCE1ie"
      },
      "outputs": [],
      "source": [
        "ordered_columns = [\n",
        "    'year', 'month', 'carrier', 'carrier_name', 'airport',\n",
        "    'airport_city', 'airport_state', 'airport_name',\n",
        "    'arr_flights',\n",
        "    'arr_del15', 'arr_del15_percentage',\n",
        "    'arr_cancelled', 'arr_cancelled_percentage',\n",
        "    'arr_diverted', 'arr_diverted_percentage',\n",
        "    'carrier_ct', 'carrier_ct_percentage',\n",
        "    'weather_ct', 'weather_ct_percentage',\n",
        "    'nas_ct', 'nas_ct_percentage',\n",
        "    'security_ct', 'security_ct_percentage',\n",
        "    'late_aircraft_ct', 'late_aircraft_ct_percentage',\n",
        "    'arr_delay',\n",
        "    'carrier_delay', 'carrier_delay_percentage',\n",
        "    'weather_delay', 'weather_delay_percentage',\n",
        "    'nas_delay', 'nas_delay_percentage',\n",
        "    'security_delay', 'security_delay_percentage',\n",
        "    'late_aircraft_delay', 'late_aircraft_delay_percentage'\n",
        "]\n",
        "\n",
        "# Reorder the DataFrame columns\n",
        "airline_data = airline_data[ordered_columns]\n",
        "\n"
      ]
    },
    {
      "cell_type": "code",
      "execution_count": 10,
      "metadata": {
        "colab": {
          "base_uri": "https://localhost:8080/",
          "height": 376
        },
        "id": "JYaXzrvcWgxl",
        "outputId": "fb0259b9-17d4-44f8-d2da-3ea58077f29e"
      },
      "outputs": [
        {
          "data": {
            "text/html": [
              "<div>\n",
              "<style scoped>\n",
              "    .dataframe tbody tr th:only-of-type {\n",
              "        vertical-align: middle;\n",
              "    }\n",
              "\n",
              "    .dataframe tbody tr th {\n",
              "        vertical-align: top;\n",
              "    }\n",
              "\n",
              "    .dataframe thead th {\n",
              "        text-align: right;\n",
              "    }\n",
              "</style>\n",
              "<table border=\"1\" class=\"dataframe\">\n",
              "  <thead>\n",
              "    <tr style=\"text-align: right;\">\n",
              "      <th></th>\n",
              "      <th>year</th>\n",
              "      <th>month</th>\n",
              "      <th>carrier</th>\n",
              "      <th>carrier_name</th>\n",
              "      <th>airport</th>\n",
              "      <th>airport_city</th>\n",
              "      <th>airport_state</th>\n",
              "      <th>airport_name</th>\n",
              "      <th>arr_flights</th>\n",
              "      <th>arr_del15</th>\n",
              "      <th>...</th>\n",
              "      <th>carrier_delay</th>\n",
              "      <th>carrier_delay_percentage</th>\n",
              "      <th>weather_delay</th>\n",
              "      <th>weather_delay_percentage</th>\n",
              "      <th>nas_delay</th>\n",
              "      <th>nas_delay_percentage</th>\n",
              "      <th>security_delay</th>\n",
              "      <th>security_delay_percentage</th>\n",
              "      <th>late_aircraft_delay</th>\n",
              "      <th>late_aircraft_delay_percentage</th>\n",
              "    </tr>\n",
              "  </thead>\n",
              "  <tbody>\n",
              "    <tr>\n",
              "      <th>0</th>\n",
              "      <td>2023</td>\n",
              "      <td>8</td>\n",
              "      <td>9E</td>\n",
              "      <td>Endeavor Air Inc.</td>\n",
              "      <td>ABE</td>\n",
              "      <td>Allentown/Bethlehem/Easton</td>\n",
              "      <td>PA</td>\n",
              "      <td>Lehigh Valley International</td>\n",
              "      <td>89.0</td>\n",
              "      <td>13.0</td>\n",
              "      <td>...</td>\n",
              "      <td>71.0</td>\n",
              "      <td>5.163636</td>\n",
              "      <td>761.0</td>\n",
              "      <td>55.345455</td>\n",
              "      <td>118.0</td>\n",
              "      <td>8.581818</td>\n",
              "      <td>0.0</td>\n",
              "      <td>0.0</td>\n",
              "      <td>425.0</td>\n",
              "      <td>30.909091</td>\n",
              "    </tr>\n",
              "    <tr>\n",
              "      <th>1</th>\n",
              "      <td>2023</td>\n",
              "      <td>8</td>\n",
              "      <td>9E</td>\n",
              "      <td>Endeavor Air Inc.</td>\n",
              "      <td>ABY</td>\n",
              "      <td>Albany</td>\n",
              "      <td>GA</td>\n",
              "      <td>Southwest Georgia Regional</td>\n",
              "      <td>62.0</td>\n",
              "      <td>10.0</td>\n",
              "      <td>...</td>\n",
              "      <td>218.0</td>\n",
              "      <td>27.284105</td>\n",
              "      <td>1.0</td>\n",
              "      <td>0.125156</td>\n",
              "      <td>62.0</td>\n",
              "      <td>7.759700</td>\n",
              "      <td>0.0</td>\n",
              "      <td>0.0</td>\n",
              "      <td>518.0</td>\n",
              "      <td>64.831039</td>\n",
              "    </tr>\n",
              "    <tr>\n",
              "      <th>2</th>\n",
              "      <td>2023</td>\n",
              "      <td>8</td>\n",
              "      <td>9E</td>\n",
              "      <td>Endeavor Air Inc.</td>\n",
              "      <td>AEX</td>\n",
              "      <td>Alexandria</td>\n",
              "      <td>LA</td>\n",
              "      <td>Alexandria International</td>\n",
              "      <td>62.0</td>\n",
              "      <td>10.0</td>\n",
              "      <td>...</td>\n",
              "      <td>56.0</td>\n",
              "      <td>7.310705</td>\n",
              "      <td>188.0</td>\n",
              "      <td>24.543081</td>\n",
              "      <td>78.0</td>\n",
              "      <td>10.182768</td>\n",
              "      <td>0.0</td>\n",
              "      <td>0.0</td>\n",
              "      <td>444.0</td>\n",
              "      <td>57.963446</td>\n",
              "    </tr>\n",
              "    <tr>\n",
              "      <th>3</th>\n",
              "      <td>2023</td>\n",
              "      <td>8</td>\n",
              "      <td>9E</td>\n",
              "      <td>Endeavor Air Inc.</td>\n",
              "      <td>AGS</td>\n",
              "      <td>Augusta</td>\n",
              "      <td>GA</td>\n",
              "      <td>Augusta Regional at Bush Field</td>\n",
              "      <td>66.0</td>\n",
              "      <td>12.0</td>\n",
              "      <td>...</td>\n",
              "      <td>471.0</td>\n",
              "      <td>33.715104</td>\n",
              "      <td>320.0</td>\n",
              "      <td>22.906228</td>\n",
              "      <td>388.0</td>\n",
              "      <td>27.773801</td>\n",
              "      <td>0.0</td>\n",
              "      <td>0.0</td>\n",
              "      <td>218.0</td>\n",
              "      <td>15.604868</td>\n",
              "    </tr>\n",
              "    <tr>\n",
              "      <th>4</th>\n",
              "      <td>2023</td>\n",
              "      <td>8</td>\n",
              "      <td>9E</td>\n",
              "      <td>Endeavor Air Inc.</td>\n",
              "      <td>ALB</td>\n",
              "      <td>Albany</td>\n",
              "      <td>NY</td>\n",
              "      <td>Albany International</td>\n",
              "      <td>92.0</td>\n",
              "      <td>22.0</td>\n",
              "      <td>...</td>\n",
              "      <td>628.0</td>\n",
              "      <td>41.045752</td>\n",
              "      <td>0.0</td>\n",
              "      <td>0.000000</td>\n",
              "      <td>134.0</td>\n",
              "      <td>8.758170</td>\n",
              "      <td>0.0</td>\n",
              "      <td>0.0</td>\n",
              "      <td>768.0</td>\n",
              "      <td>50.196078</td>\n",
              "    </tr>\n",
              "  </tbody>\n",
              "</table>\n",
              "<p>5 rows × 36 columns</p>\n",
              "</div>"
            ],
            "text/plain": [
              "   year  month carrier       carrier_name airport                airport_city  \\\n",
              "0  2023      8      9E  Endeavor Air Inc.     ABE  Allentown/Bethlehem/Easton   \n",
              "1  2023      8      9E  Endeavor Air Inc.     ABY                      Albany   \n",
              "2  2023      8      9E  Endeavor Air Inc.     AEX                  Alexandria   \n",
              "3  2023      8      9E  Endeavor Air Inc.     AGS                     Augusta   \n",
              "4  2023      8      9E  Endeavor Air Inc.     ALB                      Albany   \n",
              "\n",
              "  airport_state                    airport_name  arr_flights  arr_del15  ...  \\\n",
              "0            PA     Lehigh Valley International         89.0       13.0  ...   \n",
              "1            GA      Southwest Georgia Regional         62.0       10.0  ...   \n",
              "2            LA        Alexandria International         62.0       10.0  ...   \n",
              "3            GA  Augusta Regional at Bush Field         66.0       12.0  ...   \n",
              "4            NY            Albany International         92.0       22.0  ...   \n",
              "\n",
              "   carrier_delay  carrier_delay_percentage  weather_delay  \\\n",
              "0           71.0                  5.163636          761.0   \n",
              "1          218.0                 27.284105            1.0   \n",
              "2           56.0                  7.310705          188.0   \n",
              "3          471.0                 33.715104          320.0   \n",
              "4          628.0                 41.045752            0.0   \n",
              "\n",
              "   weather_delay_percentage  nas_delay  nas_delay_percentage  security_delay  \\\n",
              "0                 55.345455      118.0              8.581818             0.0   \n",
              "1                  0.125156       62.0              7.759700             0.0   \n",
              "2                 24.543081       78.0             10.182768             0.0   \n",
              "3                 22.906228      388.0             27.773801             0.0   \n",
              "4                  0.000000      134.0              8.758170             0.0   \n",
              "\n",
              "   security_delay_percentage  late_aircraft_delay  \\\n",
              "0                        0.0                425.0   \n",
              "1                        0.0                518.0   \n",
              "2                        0.0                444.0   \n",
              "3                        0.0                218.0   \n",
              "4                        0.0                768.0   \n",
              "\n",
              "   late_aircraft_delay_percentage  \n",
              "0                       30.909091  \n",
              "1                       64.831039  \n",
              "2                       57.963446  \n",
              "3                       15.604868  \n",
              "4                       50.196078  \n",
              "\n",
              "[5 rows x 36 columns]"
            ]
          },
          "execution_count": 10,
          "metadata": {},
          "output_type": "execute_result"
        }
      ],
      "source": [
        "airline_data.head()"
      ]
    },
    {
      "cell_type": "code",
      "execution_count": 11,
      "metadata": {
        "id": "eBU6LSZTFcZr"
      },
      "outputs": [
        {
          "name": "stdout",
          "output_type": "stream",
          "text": [
            "New CSV file 'Airline_Delay_Cause_Data_Processing.csv' saved successfully!\n"
          ]
        }
      ],
      "source": [
        "airline_data.to_csv('Airline_Delay_Cause_Data_Processing.csv', index=False)\n",
        "print(\"New CSV file 'Airline_Delay_Cause_Data_Processing.csv' saved successfully!\")"
      ]
    }
  ],
  "metadata": {
    "colab": {
      "provenance": [],
      "toc_visible": true
    },
    "kernelspec": {
      "display_name": "Python 3",
      "name": "python3"
    },
    "language_info": {
      "codemirror_mode": {
        "name": "ipython",
        "version": 3
      },
      "file_extension": ".py",
      "mimetype": "text/x-python",
      "name": "python",
      "nbconvert_exporter": "python",
      "pygments_lexer": "ipython3",
      "version": "3.11.4"
    }
  },
  "nbformat": 4,
  "nbformat_minor": 0
}
